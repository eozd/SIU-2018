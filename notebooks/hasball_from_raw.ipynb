{
 "cells": [
  {
   "cell_type": "code",
   "execution_count": 1,
   "metadata": {},
   "outputs": [],
   "source": [
    "# Copyright 2018 Esref Ozdemir\n",
    "#\n",
    "# Licensed under the Apache License, Version 2.0 (the \"License\");\n",
    "# you may not use this file except in compliance with the License.\n",
    "# You may obtain a copy of the License at\n",
    "#\n",
    "#     http://www.apache.org/licenses/LICENSE-2.0\n",
    "#\n",
    "# Unless required by applicable law or agreed to in writing, software\n",
    "# distributed under the License is distributed on an \"AS IS\" BASIS,\n",
    "# WITHOUT WARRANTIES OR CONDITIONS OF ANY KIND, either express or implied.\n",
    "# See the License for the specific language governing permissions and\n",
    "# limitations under the License."
   ]
  },
  {
   "cell_type": "markdown",
   "metadata": {},
   "source": [
    "# Constructing Datasets with Only hasball Data\n",
    "In this notebook, we create csv files which contains hasball data for each second of the match."
   ]
  },
  {
   "cell_type": "code",
   "execution_count": 2,
   "metadata": {
    "collapsed": true
   },
   "outputs": [],
   "source": [
    "import pandas as pd\n",
    "from os import listdir\n",
    "from os.path import join\n",
    "import re"
   ]
  },
  {
   "cell_type": "code",
   "execution_count": 3,
   "metadata": {},
   "outputs": [],
   "source": [
    "raw_dir = '../data/processed'\n",
    "out_dir = '../data/hasball'\n",
    "\n",
    "out_cols = ['half', 'minute', 'second', 'teamPoss', 'hasballTeam']\n",
    "\n",
    "raw_regex = re.compile(r'\\d+_raw.csv')"
   ]
  },
  {
   "cell_type": "code",
   "execution_count": 4,
   "metadata": {
    "collapsed": true
   },
   "outputs": [],
   "source": [
    "from utils import remove_missing_raw_rows\n",
    "\n",
    "\n",
    "def raw_to_hasball(raw_filename):\n",
    "    \"\"\"\n",
    "    Creates a hasball csv file in out_dir from a given raw csv filename.\n",
    "    \n",
    "    Parameters\n",
    "    ----------\n",
    "    raw_filename: Name of raw csv file in raw_dir.\n",
    "    \"\"\"\n",
    "    df = pd.read_csv(join(raw_dir, raw_filename))\n",
    "    df = remove_missing_raw_rows(df)\n",
    "    data = df[out_cols].values\n",
    "    data_uniq = np.unique(data, axis=0)\n",
    "    out_df = pd.DataFrame(data=data_uniq, columns=out_cols)\n",
    "    \n",
    "    match_id = raw_filename.split('_')[0]\n",
    "    out_file = '{}_hasball.csv'.format(match_id)\n",
    "    out_df.to_csv(join(out_dir, out_file), index=False)"
   ]
  },
  {
   "cell_type": "code",
   "execution_count": 5,
   "metadata": {
    "collapsed": true
   },
   "outputs": [],
   "source": [
    "import multiprocessing\n",
    "\n",
    "\n",
    "raw_filenames = (f for f in listdir(raw_dir) if raw_regex.match(f))\n",
    "\n",
    "pool = multiprocessing.Pool()\n",
    "pool.map(raw_to_hasball, raw_filenames);"
   ]
  }
 ],
 "metadata": {
  "kernelspec": {
   "display_name": "Python 3",
   "language": "python",
   "name": "python3"
  },
  "language_info": {
   "codemirror_mode": {
    "name": "ipython",
    "version": 3
   },
   "file_extension": ".py",
   "mimetype": "text/x-python",
   "name": "python",
   "nbconvert_exporter": "python",
   "pygments_lexer": "ipython3",
   "version": "3.6.4"
  }
 },
 "nbformat": 4,
 "nbformat_minor": 2
}
