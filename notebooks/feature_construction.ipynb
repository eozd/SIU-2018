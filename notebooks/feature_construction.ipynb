{
 "cells": [
  {
   "cell_type": "code",
   "execution_count": 1,
   "metadata": {},
   "outputs": [],
   "source": [
    "# Copyright 2018 Esref Ozdemir\n",
    "#\n",
    "# Licensed under the Apache License, Version 2.0 (the \"License\");\n",
    "# you may not use this file except in compliance with the License.\n",
    "# You may obtain a copy of the License at\n",
    "#\n",
    "#     http://www.apache.org/licenses/LICENSE-2.0\n",
    "#\n",
    "# Unless required by applicable law or agreed to in writing, software\n",
    "# distributed under the License is distributed on an \"AS IS\" BASIS,\n",
    "# WITHOUT WARRANTIES OR CONDITIONS OF ANY KIND, either express or implied.\n",
    "# See the License for the specific language governing permissions and\n",
    "# limitations under the License."
   ]
  },
  {
   "cell_type": "markdown",
   "metadata": {},
   "source": [
    "# Feature Construction\n",
    "In this notebook we will construct features from raw match data (match_id.csv files)."
   ]
  },
  {
   "cell_type": "markdown",
   "metadata": {},
   "source": [
    "## Raw Data File Format\n",
    "Each raw match **.txt** file has the following structure:\n",
    "```\n",
    "<is_converted> <home_left>\n",
    "<match_id>\\t<timestamp>\\t<half>\\t<minute>\\t<second>\\t<player_list>\\n\n",
    "```\n",
    "where a ```<player_list>``` has the following structure:\n",
    "```\n",
    "<player_1> <player_2> ... <player_N>\n",
    "```\n",
    "and ```<player_i>``` has the following structure:\n",
    "```\n",
    "<type_i>,<id_i>,<jersey_i>,<x_i>,<y_i>\n",
    "```\n",
    "for $i \\in \\{1, 2, \\dots, N\\}$.\n",
    "\n",
    "In this format,\n",
    "* ```<is_converted>``` denotes whether the match is converted so that home team is always on the left, regardless of the match half. ```<home_left>``` denotes whether home team has started the match on the left half ($x \\in [0, 52.5]$).\n",
    "\n",
    "  * If ```<is_converted>``` is **true**, then ```<home_left>``` is not used. Home team coordinates are always on the left.\n",
    "  * If ```<is_converted>``` is **false**, then the match should be manually converted so that home team is always on the left regardless of the match half. ```<home_left>``` should be used during this conversion.\n",
    "  \n",
    "* ```<player_type>``` is a key of the following mapping:\n",
    "```python\n",
    "    {\n",
    "        0 : 'home_player',\n",
    "        1 : 'away_player',\n",
    "        2 : 'referee',\n",
    "        3 : 'home_goalkeeper',\n",
    "        4 : 'away_goalkeeper'\n",
    "    }\n",
    "```"
   ]
  },
  {
   "cell_type": "code",
   "execution_count": 99,
   "metadata": {},
   "outputs": [],
   "source": [
    "%matplotlib inline\n",
    "import matplotlib.pyplot as plt\n",
    "import pandas as pd\n",
    "import numpy as np\n",
    "import os\n",
    "from scipy.spatial import ConvexHull\n",
    "from scipy.spatial.qhull import QhullError\n",
    "from sklearn.cluster import KMeans\n",
    "\n",
    "from utils import (group_indices, inner_dist, gini_impurity,parse_raw_file,\n",
    "                   raw_to_sec_df, remove_missing_raw_rows, hms_to_sec, dist)\n",
    "\n",
    "\n",
    "pd.set_option('compute.use_bottleneck', True)\n",
    "pd.set_option('compute.use_numexpr', True)"
   ]
  },
  {
   "cell_type": "code",
   "execution_count": 100,
   "metadata": {
    "scrolled": false
   },
   "outputs": [
    {
     "name": "stdout",
     "output_type": "stream",
     "text": [
      "../data/train_raw/20125_raw.txt\n"
     ]
    },
    {
     "data": {
      "text/html": [
       "<div>\n",
       "<style scoped>\n",
       "    .dataframe tbody tr th:only-of-type {\n",
       "        vertical-align: middle;\n",
       "    }\n",
       "\n",
       "    .dataframe tbody tr th {\n",
       "        vertical-align: top;\n",
       "    }\n",
       "\n",
       "    .dataframe thead th {\n",
       "        text-align: right;\n",
       "    }\n",
       "</style>\n",
       "<table border=\"1\" class=\"dataframe\">\n",
       "  <thead>\n",
       "    <tr style=\"text-align: right;\">\n",
       "      <th></th>\n",
       "      <th>match_id</th>\n",
       "      <th>timestamp</th>\n",
       "      <th>half</th>\n",
       "      <th>minute</th>\n",
       "      <th>second</th>\n",
       "      <th>player_type</th>\n",
       "      <th>player_id</th>\n",
       "      <th>x</th>\n",
       "      <th>y</th>\n",
       "    </tr>\n",
       "  </thead>\n",
       "  <tbody>\n",
       "    <tr>\n",
       "      <th>0</th>\n",
       "      <td>20125</td>\n",
       "      <td>68471899</td>\n",
       "      <td>1</td>\n",
       "      <td>0</td>\n",
       "      <td>0</td>\n",
       "      <td>2</td>\n",
       "      <td>1446</td>\n",
       "      <td>53.00</td>\n",
       "      <td>41.43</td>\n",
       "    </tr>\n",
       "    <tr>\n",
       "      <th>1</th>\n",
       "      <td>20125</td>\n",
       "      <td>68471899</td>\n",
       "      <td>1</td>\n",
       "      <td>0</td>\n",
       "      <td>0</td>\n",
       "      <td>0</td>\n",
       "      <td>1263</td>\n",
       "      <td>36.90</td>\n",
       "      <td>16.46</td>\n",
       "    </tr>\n",
       "    <tr>\n",
       "      <th>2</th>\n",
       "      <td>20125</td>\n",
       "      <td>68471899</td>\n",
       "      <td>1</td>\n",
       "      <td>0</td>\n",
       "      <td>0</td>\n",
       "      <td>0</td>\n",
       "      <td>1341</td>\n",
       "      <td>49.66</td>\n",
       "      <td>39.12</td>\n",
       "    </tr>\n",
       "    <tr>\n",
       "      <th>3</th>\n",
       "      <td>20125</td>\n",
       "      <td>68471899</td>\n",
       "      <td>1</td>\n",
       "      <td>0</td>\n",
       "      <td>0</td>\n",
       "      <td>0</td>\n",
       "      <td>1230</td>\n",
       "      <td>67.30</td>\n",
       "      <td>11.44</td>\n",
       "    </tr>\n",
       "    <tr>\n",
       "      <th>4</th>\n",
       "      <td>20125</td>\n",
       "      <td>68471899</td>\n",
       "      <td>1</td>\n",
       "      <td>0</td>\n",
       "      <td>0</td>\n",
       "      <td>0</td>\n",
       "      <td>1415</td>\n",
       "      <td>58.01</td>\n",
       "      <td>29.93</td>\n",
       "    </tr>\n",
       "    <tr>\n",
       "      <th>5</th>\n",
       "      <td>20125</td>\n",
       "      <td>68471899</td>\n",
       "      <td>1</td>\n",
       "      <td>0</td>\n",
       "      <td>0</td>\n",
       "      <td>1</td>\n",
       "      <td>1489</td>\n",
       "      <td>57.74</td>\n",
       "      <td>40.26</td>\n",
       "    </tr>\n",
       "    <tr>\n",
       "      <th>6</th>\n",
       "      <td>20125</td>\n",
       "      <td>68471899</td>\n",
       "      <td>1</td>\n",
       "      <td>0</td>\n",
       "      <td>0</td>\n",
       "      <td>4</td>\n",
       "      <td>1490</td>\n",
       "      <td>98.02</td>\n",
       "      <td>34.41</td>\n",
       "    </tr>\n",
       "    <tr>\n",
       "      <th>7</th>\n",
       "      <td>20125</td>\n",
       "      <td>68471899</td>\n",
       "      <td>1</td>\n",
       "      <td>0</td>\n",
       "      <td>0</td>\n",
       "      <td>0</td>\n",
       "      <td>1491</td>\n",
       "      <td>54.23</td>\n",
       "      <td>52.23</td>\n",
       "    </tr>\n",
       "    <tr>\n",
       "      <th>8</th>\n",
       "      <td>20125</td>\n",
       "      <td>68471899</td>\n",
       "      <td>1</td>\n",
       "      <td>0</td>\n",
       "      <td>0</td>\n",
       "      <td>0</td>\n",
       "      <td>1241</td>\n",
       "      <td>43.20</td>\n",
       "      <td>11.49</td>\n",
       "    </tr>\n",
       "    <tr>\n",
       "      <th>9</th>\n",
       "      <td>20125</td>\n",
       "      <td>68471899</td>\n",
       "      <td>1</td>\n",
       "      <td>0</td>\n",
       "      <td>0</td>\n",
       "      <td>0</td>\n",
       "      <td>1466</td>\n",
       "      <td>71.87</td>\n",
       "      <td>38.45</td>\n",
       "    </tr>\n",
       "  </tbody>\n",
       "</table>\n",
       "</div>"
      ],
      "text/plain": [
       "   match_id  timestamp  half  minute  second  player_type  player_id      x  \\\n",
       "0     20125   68471899     1       0       0            2       1446  53.00   \n",
       "1     20125   68471899     1       0       0            0       1263  36.90   \n",
       "2     20125   68471899     1       0       0            0       1341  49.66   \n",
       "3     20125   68471899     1       0       0            0       1230  67.30   \n",
       "4     20125   68471899     1       0       0            0       1415  58.01   \n",
       "5     20125   68471899     1       0       0            1       1489  57.74   \n",
       "6     20125   68471899     1       0       0            4       1490  98.02   \n",
       "7     20125   68471899     1       0       0            0       1491  54.23   \n",
       "8     20125   68471899     1       0       0            0       1241  43.20   \n",
       "9     20125   68471899     1       0       0            0       1466  71.87   \n",
       "\n",
       "       y  \n",
       "0  41.43  \n",
       "1  16.46  \n",
       "2  39.12  \n",
       "3  11.44  \n",
       "4  29.93  \n",
       "5  40.26  \n",
       "6  34.41  \n",
       "7  52.23  \n",
       "8  11.49  \n",
       "9  38.45  "
      ]
     },
     "execution_count": 100,
     "metadata": {},
     "output_type": "execute_result"
    }
   ],
   "source": [
    "data_dir = '../data/train_raw'\n",
    "raw_files = [f for f in os.listdir(data_dir) if f.endswith('.txt')]\n",
    "raw_file = os.path.join(data_dir, raw_files[0])\n",
    "print(raw_file)\n",
    "df = parse_raw_file(raw_file)\n",
    "df.head(10)"
   ]
  },
  {
   "cell_type": "markdown",
   "metadata": {},
   "source": [
    "## Convert 100ms DataFrame to Second DataFrame\n",
    "We will classify snapshots per second. Therefore, we use only the first snapshot out of 10 snapshots for a given second."
   ]
  },
  {
   "cell_type": "code",
   "execution_count": 23,
   "metadata": {
    "scrolled": false
   },
   "outputs": [
    {
     "name": "stdout",
     "output_type": "stream",
     "text": [
      "Raw dataframe shape: (1298887, 9)\n",
      "Second dataframe shape: (129904, 9)\n"
     ]
    }
   ],
   "source": [
    "sec_df = raw_to_sec_df(df)\n",
    "print('Raw dataframe shape: {}'.format(df.shape))\n",
    "print('Second dataframe shape: {}'.format(sec_df.shape))"
   ]
  },
  {
   "cell_type": "markdown",
   "metadata": {},
   "source": [
    "## Computing Features For a Single Match\n",
    "In this section, we compute several features for a whole match. Each feature is computed for each second of the game. Thus, we iterate over the seconds of a match and compute each feature per second."
   ]
  },
  {
   "cell_type": "markdown",
   "metadata": {},
   "source": [
    "### Definitions"
   ]
  },
  {
   "cell_type": "code",
   "execution_count": 13,
   "metadata": {},
   "outputs": [
    {
     "name": "stdout",
     "output_type": "stream",
     "text": [
      "44\n"
     ]
    }
   ],
   "source": [
    "features = [\n",
    "    'homeAvgX', 'awayAvgX',\n",
    "    'homeAvgY', 'awayAvgY',\n",
    "    'refX',\n",
    "    'refY',\n",
    "    'refSpeed',\n",
    "    'playerConvexMaxX',            'homeConvexMaxX',            'awayConvexMaxX',\n",
    "    'playerConvexMaxY',            'homeConvexMaxY',            'awayConvexMaxY',\n",
    "    'playerConvexMinX',            'homeConvexMinX',            'awayConvexMinX',\n",
    "    'playerConvexMinY',            'homeConvexMinY',            'awayConvexMinY',\n",
    "    'playerConvexCenterX',         'homeConvexCenterX',         'awayConvexCenterX',\n",
    "    'playerConvexCenterY',         'homeConvexCenterY',         'awayConvexCenterY',\n",
    "    'playerConvexMaxSpeed',        'homeConvexMaxSpeed',        'awayConvexMaxSpeed',\n",
    "    'playerConvexFarDistance',     'homeConvexFarDistance',     'awayConvexFarDistance',\n",
    "    'playerConvexClosestDistance', 'homeConvexClosestDistance', 'awayConvexClosestDistance', \n",
    "    'homeInnerDistance',           'awayInnerDistance',\n",
    "    'playerDenseClusterDensity',   'homeDenseClusterDensity',   'awayDenseClusterDensity',\n",
    "    'playerSparseClusterDensity',  'homeSparseClusterDensity',  'awaySparseClusterDensity',\n",
    "    'playerVerticalLinearity',\n",
    "    'maxClusterImpurity',\n",
    "]\n",
    "print(len(features))"
   ]
  },
  {
   "cell_type": "markdown",
   "metadata": {},
   "source": [
    "### Computation Functions"
   ]
  },
  {
   "cell_type": "code",
   "execution_count": 60,
   "metadata": {},
   "outputs": [],
   "source": [
    "def speed(x0, y0, x1, y1, t):\n",
    "    assert(t > 0)\n",
    "    return dist(x0, y0, x1, y1)/t"
   ]
  },
  {
   "cell_type": "code",
   "execution_count": 93,
   "metadata": {},
   "outputs": [],
   "source": [
    "def avg_min_max_stats(df, prefix, out_df, i):\n",
    "    out_df.at[i, prefix + 'AvgX'] = df['x'].mean()\n",
    "    out_df.at[i, prefix + 'AvgY'] = df['y'].mean()\n",
    "\n",
    "    \n",
    "def convex_stats(df, prev_df, prefix, out_df, i):\n",
    "    try:\n",
    "        xy = df[['x', 'y']].values\n",
    "        all_ids = df['player_id'].values\n",
    "        convex_indices = ConvexHull(xy).vertices\n",
    "        points = xy[convex_indices]\n",
    "        player_ids = all_ids[convex_indices]\n",
    "        \n",
    "        # convex max, min, center\n",
    "        out_df.at[i, prefix + 'ConvexMaxX'] = points[:, 0].max()\n",
    "        out_df.at[i, prefix + 'ConvexMaxY'] = points[:, 1].max()\n",
    "        out_df.at[i, prefix + 'ConvexMinX'] = points[:, 0].min()\n",
    "        out_df.at[i, prefix + 'ConvexMinY'] = points[:, 1].min()\n",
    "        out_df.at[i, prefix + 'ConvexCenterX'] = points[:, 0].mean()\n",
    "        out_df.at[i, prefix + 'ConvexCenterY'] = points[:, 1].mean()\n",
    "        \n",
    "        # convex max speed\n",
    "        if i > 0:\n",
    "            max_speed = -1e60\n",
    "            for pid in player_ids:\n",
    "                prev_row = prev_df[prev_df['player_id'] == pid]\n",
    "                if prev_row.empty:\n",
    "                    continue\n",
    "\n",
    "                curr_row = df[df['player_id'] == pid]\n",
    "                \n",
    "                t = (hms_to_sec(curr_row[['half', 'minute', 'second']].values[0, :]) -\n",
    "                     hms_to_sec(prev_row[['half', 'minute', 'second']].values[0, :]))\n",
    "                \n",
    "                curr_speed = speed(\n",
    "                    curr_row['x'].values[0],\n",
    "                    curr_row['y'].values[0],\n",
    "                    prev_row['x'].values[0],\n",
    "                    prev_row['y'].values[0],\n",
    "                    t\n",
    "                )\n",
    "                max_speed = max(max_speed, curr_speed)\n",
    "        else:\n",
    "            max_speed = 0\n",
    "        \n",
    "        out_df.at[i, prefix + 'ConvexMaxSpeed'] = max_speed\n",
    "        # convex distance stats\n",
    "        center = np.array([out_df.loc[i, prefix + 'ConvexCenterX'], out_df.loc[i, prefix + 'ConvexCenterY']])\n",
    "        norms = np.linalg.norm(points - center, axis=1)\n",
    "        out_df.at[i, prefix + 'ConvexFarDistance'] = norms.max()\n",
    "        out_df.at[i, prefix + 'ConvexClosestDistance'] = norms.min()\n",
    "    except QhullError:\n",
    "        out_df.at[i, prefix + 'ConvexMaxX'] = np.nan\n",
    "        out_df.at[i, prefix + 'ConvexMaxY'] = np.nan\n",
    "        out_df.at[i, prefix + 'ConvexMinX'] = np.nan\n",
    "        out_df.at[i, prefix + 'ConvexMinY'] = np.nan\n",
    "        out_df.at[i, prefix + 'ConvexCenterX'] = np.nan\n",
    "        out_df.at[i, prefix + 'ConvexCenterY'] = np.nan\n",
    "        out_df.at[i, prefix + 'ConvexMaxSpeed'] = np.nan\n",
    "        out_df.at[i, prefix + 'ConvexFarDistance'] = np.nan\n",
    "        out_df.at[i, prefix + 'ConvexClosestDistance'] = np.nan\n",
    "        \n",
    "        \n",
    "def cluster_stats(df, prefix, out_df, index):\n",
    "    xy = df[['x', 'y']].values\n",
    "    n_clusters = 2\n",
    "    \n",
    "    kmeans = KMeans(n_clusters=n_clusters, n_init=10)\n",
    "    try:\n",
    "        kmeans = kmeans.fit(xy)\n",
    "    except:\n",
    "        out_df.at[index, prefix + 'DenseClusterDensity'] = np.nan\n",
    "        out_df.at[index, prefix + 'SparseClusterDensity'] = np.nan\n",
    "        return\n",
    "    \n",
    "    centroids = kmeans.cluster_centers_\n",
    "    \n",
    "    accum = []\n",
    "    for i in range(n_clusters):\n",
    "        cluster = xy[kmeans.labels_ == i]\n",
    "        n_points = len(cluster)\n",
    "        \n",
    "        diff = np.sqrt(np.sum((cluster - centroids[i])**2, axis=1))\n",
    "        max_dist = np.max(diff)\n",
    "        \n",
    "        different_players = not np.isclose(max_dist, 0)\n",
    "        density = n_points/max_dist if different_players else 0\n",
    "        accum.append(density)\n",
    "        \n",
    "    out_df.at[index, prefix + 'DenseClusterDensity'] = max(accum)\n",
    "    out_df.at[index, prefix + 'SparseClusterDensity'] = min(accum)\n",
    "\n",
    "\n",
    "def linearity_stats(df, prefix, out_df, index):\n",
    "    n_clusters = 4\n",
    "    xy = df[['x', 'y']].values\n",
    "    x = xy[:, 0].reshape(-1, 1)\n",
    "    \n",
    "    kmeans = KMeans(n_clusters=n_clusters, n_init=10)\n",
    "    try:\n",
    "        kmeans = kmeans.fit(x)\n",
    "    except:\n",
    "        out_df.at[index, prefix + 'VerticalLinearity'] = np.nan\n",
    "        return\n",
    "        \n",
    "    centroids = kmeans.cluster_centers_\n",
    "    max_vert_density = -1\n",
    "    \n",
    "    for i in range(n_clusters):\n",
    "        cluster_x = x[kmeans.labels_ == i]\n",
    "        n_points = len(cluster_x)\n",
    "        \n",
    "        vert_diff = np.abs(cluster_x - centroids[i])\n",
    "        max_dist = np.max(vert_diff)\n",
    "        \n",
    "        different_players = not np.isclose(max_dist, 0)\n",
    "        vert_density = n_points/max_dist if different_players else 0\n",
    "        \n",
    "        max_vert_density = max(max_vert_density, vert_density)\n",
    "    \n",
    "    out_df.at[index, prefix + 'VerticalLinearity'] = max_vert_density\n",
    "    \n",
    "    \n",
    "def player_mixing_stats(player_df, out_df, index):\n",
    "    n_clusters = 4\n",
    "    xy = player_df[['x', 'y']].values\n",
    "    player_type = player_df['player_type'].values\n",
    "    \n",
    "    kmeans = KMeans(n_clusters=n_clusters, n_init=10)\n",
    "    try:\n",
    "        kmeans = kmeans.fit(xy)\n",
    "    except:\n",
    "        out_df.at[index, 'maxClusterImpurity'] = np.nan\n",
    "        return\n",
    "        \n",
    "    centroids = kmeans.cluster_centers_\n",
    "    \n",
    "    max_impurity = -1\n",
    "    \n",
    "    for i in range(n_clusters):\n",
    "        cluster_team = player_type[kmeans.labels_ == i]\n",
    "        gini = gini_impurity(cluster_team)\n",
    "        max_impurity = max(max_impurity, gini)\n",
    "        \n",
    "    out_df.at[index, 'maxClusterImpurity'] = max_impurity"
   ]
  },
  {
   "cell_type": "markdown",
   "metadata": {},
   "source": [
    "### Computation"
   ]
  },
  {
   "cell_type": "code",
   "execution_count": 70,
   "metadata": {},
   "outputs": [],
   "source": [
    "def compute_features(raw_df):\n",
    "    '''\n",
    "    Given a pandas.DataFrame for raw data, computes a pandas.DataFrame containing\n",
    "    predetermined features, for each second.\n",
    "    '''\n",
    "    # get rid of frames with missing player values\n",
    "    raw_df = remove_missing_raw_rows(raw_df)\n",
    "    \n",
    "    # convert to second apart df\n",
    "    raw_df = raw_to_sec_df(raw_df)\n",
    "    \n",
    "    # init\n",
    "    time = raw_df[['half', 'minute', 'second']].values\n",
    "    feature_df = pd.DataFrame(\n",
    "        data=np.zeros((len(time), len(features) + 3), dtype='float'),\n",
    "        columns=['half', 'minute', 'second'] + sorted(features)\n",
    "    )\n",
    "    int_cols = ['half', 'minute', 'second']\n",
    "    feature_df[int_cols] = feature_df[int_cols].astype(int)\n",
    "    indices = group_indices(time)\n",
    "    \n",
    "    # loop over seconds\n",
    "    sec_df = pd.DataFrame()\n",
    "    prev_player = pd.DataFrame()\n",
    "    prev_home = pd.DataFrame()\n",
    "    prev_away = pd.DataFrame()\n",
    "    for i in range(len(indices) - 1):\n",
    "        # set half, min, sec\n",
    "        feature_df.at[i, :3] = time[indices[i]]\n",
    "        \n",
    "        # dataframe for the current second\n",
    "        prev_df = sec_df\n",
    "        sec_df = raw_df.iloc[indices[i]:indices[i + 1], :]\n",
    "        \n",
    "        # player groups\n",
    "        player = sec_df[(sec_df['player_type'] == 0) | (sec_df['player_type'] == 1)]\n",
    "        home = sec_df[sec_df['player_type'] == 0]\n",
    "        away = sec_df[sec_df['player_type'] == 1]\n",
    "        \n",
    "        # player groups for previous second\n",
    "        if i > 0:\n",
    "            prev_player = prev_df[(prev_df['player_type'] == 0) | (prev_df['player_type'] == 1)]\n",
    "            prev_home = prev_df[prev_df['player_type'] == 0]\n",
    "            prev_away = prev_df[prev_df['player_type'] == 1]\n",
    "        \n",
    "        ref = sec_df[sec_df['player_type'] == 2]\n",
    "\n",
    "        # avg, min, max stats\n",
    "        avg_min_max_stats(home, 'home', feature_df, i)\n",
    "        avg_min_max_stats(away, 'away', feature_df, i)\n",
    "\n",
    "        # referee stats\n",
    "        feature_df.at[i, 'refX'] = np.nan if ref['x'].empty else ref['x']\n",
    "        feature_df.at[i, 'refY'] = np.nan if ref['y'].empty else ref['y']\n",
    "        # referee speed\n",
    "        if i > 0:\n",
    "            timespan = (hms_to_sec(feature_df[['half', 'minute', 'second']].values[i, :]) -\n",
    "                        hms_to_sec(feature_df[['half', 'minute', 'second']].values[i - 1, :]))\n",
    "            feature_df.at[i, 'refSpeed'] = speed(\n",
    "                feature_df.at[i, 'refX'],\n",
    "                feature_df.at[i, 'refY'],\n",
    "                feature_df.at[i - 1, 'refX'],\n",
    "                feature_df.at[i - 1, 'refY'],\n",
    "                timespan\n",
    "            )\n",
    "        \n",
    "        # convex stats\n",
    "        convex_stats(player, prev_player, 'player', feature_df, i)\n",
    "        convex_stats(home, prev_player, 'home', feature_df, i)\n",
    "        convex_stats(away, prev_player, 'away', feature_df, i)\n",
    "\n",
    "        # inner distance stats\n",
    "        feature_df.at[i, 'homeInnerDistance'] = np.sum(inner_dist(home[['x', 'y']].values))\n",
    "        feature_df.at[i, 'awayInnerDistance'] = np.sum(inner_dist(away[['x', 'y']].values))\n",
    "\n",
    "        # cluster stats\n",
    "        cluster_stats(player, 'player', feature_df, i)\n",
    "        cluster_stats(home, 'home', feature_df, i)\n",
    "        cluster_stats(away, 'away', feature_df, i)\n",
    "        \n",
    "        # linearity stats\n",
    "        linearity_stats(player, 'player', feature_df, i)\n",
    "        \n",
    "        # player mixing stats\n",
    "        player_mixing_stats(player, feature_df, i)\n",
    "\n",
    "    # get rid of zero rows and return\n",
    "    return feature_df[(feature_df.T != 0).any()]"
   ]
  },
  {
   "cell_type": "markdown",
   "metadata": {},
   "source": [
    "## Computing Features with Multiple Cores via Multiprocessing"
   ]
  },
  {
   "cell_type": "code",
   "execution_count": 90,
   "metadata": {},
   "outputs": [],
   "source": [
    "import multiprocessing\n",
    "\n",
    "\n",
    "def compute_features_multiprocessing(df):\n",
    "    df_indices = group_indices(df[['half', 'minute', 'second']].values)\n",
    "    n = len(df_indices)\n",
    "    n_cpu = multiprocessing.cpu_count()\n",
    "    x = n//n_cpu\n",
    "    sec_indices = [x*i for i in range(n_cpu)] + [n - 1]\n",
    "    split_indices = [df_indices[sec] for sec in sec_indices]\n",
    "    args = []\n",
    "    for i in range(1, len(split_indices)):\n",
    "        args.append(df.iloc[split_indices[i - 1]:split_indices[i], :])\n",
    "        \n",
    "    pool = multiprocessing.Pool()\n",
    "    res = pool.map(compute_features, args)\n",
    "    out_df = pd.concat(res).reset_index(drop=True)\n",
    "    \n",
    "    # replace any NaN values with the most recently computed value\n",
    "    out_df.fillna(method='ffill', inplace=True)\n",
    "    return out_df"
   ]
  },
  {
   "cell_type": "code",
   "execution_count": 108,
   "metadata": {},
   "outputs": [
    {
     "name": "stdout",
     "output_type": "stream",
     "text": [
      "Model name:          Intel(R) Core(TM) i5-2410M CPU @ 2.30GHz\n",
      "Thread(s) per core:  2\n",
      "Core(s) per socket:  2\n",
      "CPU(s):              4\n"
     ]
    }
   ],
   "source": [
    "%%sh\n",
    "lscpu | grep 'Model name:';\n",
    "lscpu | grep 'Thread(s) per core:';\n",
    "lscpu | grep 'Core(s) per socket:';\n",
    "lscpu | grep '^CPU(s):'"
   ]
  },
  {
   "cell_type": "code",
   "execution_count": 11,
   "metadata": {},
   "outputs": [
    {
     "name": "stdout",
     "output_type": "stream",
     "text": [
      "Number of physical cores: 2\n",
      "Number of logical cores: 4\n"
     ]
    }
   ],
   "source": [
    "import psutil\n",
    "\n",
    "print('Number of physical cores: {}'.format(psutil.cpu_count(logical=False)))\n",
    "print('Number of logical cores: {}'.format(psutil.cpu_count(logical=True)))"
   ]
  },
  {
   "cell_type": "code",
   "execution_count": 98,
   "metadata": {},
   "outputs": [
    {
     "name": "stdout",
     "output_type": "stream",
     "text": [
      "CPU times: user 5.31 s, sys: 7.63 s, total: 12.9 s\n",
      "Wall time: 6min 30s\n"
     ]
    }
   ],
   "source": [
    "%time out_df = compute_features_multiprocessing(df)"
   ]
  },
  {
   "cell_type": "markdown",
   "metadata": {},
   "source": [
    "### C++ Feature Computer Speed\n",
    "Here, we compare the speed of our Python code with C++ version. Even though C++ version is not multithreaded, it still can compute the features much faster than our naive Python implementation."
   ]
  },
  {
   "cell_type": "code",
   "execution_count": 97,
   "metadata": {},
   "outputs": [
    {
     "name": "stderr",
     "output_type": "stream",
     "text": [
      "\n",
      "real\t0m3.977s\n",
      "user\t0m3.040s\n",
      "sys\t0m0.879s\n"
     ]
    }
   ],
   "source": [
    "%%sh\n",
    "time ../cpp_feature/feature ../data/train_raw/20125_raw.txt ../data/train_raw/20125_cpp_feature.csv"
   ]
  },
  {
   "cell_type": "markdown",
   "metadata": {},
   "source": [
    "## Computing Features For All Raw Match Data\n",
    "In this section, we compute several features for all the matches in the raw match data directory and store the resulting feature data in feature directory.\n",
    "\n",
    "### Warning\n",
    "Note that since the Python version is really slow, you shouldn't use this code anymore. Consider computing features using C++ feature computer program as mentioned in the README.md."
   ]
  },
  {
   "cell_type": "code",
   "execution_count": null,
   "metadata": {
    "collapsed": true
   },
   "outputs": [],
   "source": [
    "%%time\n",
    "data_dir = '../data/test_raw'\n",
    "out_dir = os.path.join(os.path.dirname(data_dir), 'test_feature')\n",
    "for csv_file in raw_csv_files:\n",
    "    match_id = csv_file.split('_')[0]\n",
    "    df = pd.read_csv(os.path.join(data_dir, csv_file))\n",
    "    feature_df = compute_features_multiprocessing(df)\n",
    "    out_csv = os.path.join(out_dir, match_id + '_feature.csv')\n",
    "    home = df[df['teamType'] == 1]['teamId'].iloc[0]\n",
    "    away = df[df['teamType'] == 2]['teamId'].iloc[0]\n",
    "    with open(out_csv, 'w') as f:\n",
    "        f.write('# home = {}\\n'.format(home))\n",
    "        f.write('# away = {}\\n'.format(away))        \n",
    "        feature_df.to_csv(f, index=False)"
   ]
  }
 ],
 "metadata": {
  "kernelspec": {
   "display_name": "Python 3",
   "language": "python",
   "name": "python3"
  },
  "language_info": {
   "codemirror_mode": {
    "name": "ipython",
    "version": 3
   },
   "file_extension": ".py",
   "mimetype": "text/x-python",
   "name": "python",
   "nbconvert_exporter": "python",
   "pygments_lexer": "ipython3",
   "version": "3.6.4"
  },
  "toc": {
   "nav_menu": {},
   "number_sections": true,
   "sideBar": true,
   "skip_h1_title": false,
   "toc_cell": false,
   "toc_position": {},
   "toc_section_display": "block",
   "toc_window_display": false
  },
  "varInspector": {
   "cols": {
    "lenName": 16,
    "lenType": 16,
    "lenVar": 40
   },
   "kernels_config": {
    "python": {
     "delete_cmd_postfix": "",
     "delete_cmd_prefix": "del ",
     "library": "var_list.py",
     "varRefreshCmd": "print(var_dic_list())"
    },
    "r": {
     "delete_cmd_postfix": ") ",
     "delete_cmd_prefix": "rm(",
     "library": "var_list.r",
     "varRefreshCmd": "cat(var_dic_list()) "
    }
   },
   "types_to_exclude": [
    "module",
    "function",
    "builtin_function_or_method",
    "instance",
    "_Feature"
   ],
   "window_display": false
  }
 },
 "nbformat": 4,
 "nbformat_minor": 2
}
