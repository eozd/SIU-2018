{
 "cells": [
  {
   "cell_type": "code",
   "execution_count": 1,
   "metadata": {},
   "outputs": [],
   "source": [
    "# Copyright 2018 Esref Ozdemir\n",
    "#\n",
    "# Licensed under the Apache License, Version 2.0 (the \"License\");\n",
    "# you may not use this file except in compliance with the License.\n",
    "# You may obtain a copy of the License at\n",
    "#\n",
    "#     http://www.apache.org/licenses/LICENSE-2.0\n",
    "#\n",
    "# Unless required by applicable law or agreed to in writing, software\n",
    "# distributed under the License is distributed on an \"AS IS\" BASIS,\n",
    "# WITHOUT WARRANTIES OR CONDITIONS OF ANY KIND, either express or implied.\n",
    "# See the License for the specific language governing permissions and\n",
    "# limitations under the License."
   ]
  },
  {
   "cell_type": "markdown",
   "metadata": {},
   "source": [
    "# Try Clustering Features\n",
    "In this notebook, we compute various clustering features and see if they can potentially be used to predict events of interest."
   ]
  },
  {
   "cell_type": "code",
   "execution_count": 1,
   "metadata": {},
   "outputs": [],
   "source": [
    "%matplotlib inline\n",
    "from collections import namedtuple\n",
    "\n",
    "import numpy as np\n",
    "import pandas as pd\n",
    "import matplotlib.pyplot as plt\n",
    "from sklearn.cluster import KMeans\n",
    "\n",
    "from utils import inner_dist, remove_missing_raw_rows"
   ]
  },
  {
   "cell_type": "markdown",
   "metadata": {},
   "source": [
    "## 1. Finding Degree of Clustering\n",
    "Need to find a way to assess the degree of clustering (especially clustering around the penalty area). Using kmeans might be a way.\n",
    "\n",
    "Need to find features that can describe clustering of players better than simply summing inner distances. innerDistanceSum cannot distinguish between the cases where\n",
    "\n",
    "1. some players are clustered when there are outliers,\n",
    "2. all players are fairly apart from each other\n",
    "\n",
    "with both cases leading to average to high distance sum."
   ]
  },
  {
   "cell_type": "code",
   "execution_count": 7,
   "metadata": {},
   "outputs": [],
   "source": [
    "KMeansResult = namedtuple('KMeansResult', 'count max_dist_to_centroid density')\n",
    "\n",
    "\n",
    "def kmeans_results(points):\n",
    "    n_clusters = 2\n",
    "    \n",
    "    kmeans = KMeans(n_clusters=n_clusters, n_init=10)\n",
    "    kmeans = kmeans.fit(points)\n",
    "    centroids = kmeans.cluster_centers_\n",
    "    \n",
    "    accum = []\n",
    "    \n",
    "    for i in range(n_clusters):\n",
    "        cluster = points[kmeans.labels_ == i]\n",
    "        num_points = len(cluster)\n",
    "        diff = (cluster - centroids[i])**2\n",
    "        max_dist = np.max(np.sum(diff, axis=1))\n",
    "        different_players = not np.isclose(max_dist, 0)\n",
    "        density = num_points/max_dist if different_players else 0\n",
    "        accum.append((cluster, i, KMeansResult(num_points, max_dist, density)))\n",
    "                     \n",
    "    return accum"
   ]
  },
  {
   "cell_type": "code",
   "execution_count": 4,
   "metadata": {},
   "outputs": [],
   "source": [
    "mid = 20157\n",
    "event = pd.read_csv('../data/train_events/{}_event.csv'.format(mid))\n",
    "raw = pd.read_csv('../data/processed/{}_raw.csv'.format(mid))"
   ]
  },
  {
   "cell_type": "code",
   "execution_count": 5,
   "metadata": {},
   "outputs": [
    {
     "data": {
      "text/html": [
       "<div>\n",
       "<style scoped>\n",
       "    .dataframe tbody tr th:only-of-type {\n",
       "        vertical-align: middle;\n",
       "    }\n",
       "\n",
       "    .dataframe tbody tr th {\n",
       "        vertical-align: top;\n",
       "    }\n",
       "\n",
       "    .dataframe thead th {\n",
       "        text-align: right;\n",
       "    }\n",
       "</style>\n",
       "<table border=\"1\" class=\"dataframe\">\n",
       "  <thead>\n",
       "    <tr style=\"text-align: right;\">\n",
       "      <th></th>\n",
       "      <th>teamId</th>\n",
       "      <th>eventId</th>\n",
       "      <th>jersey</th>\n",
       "      <th>half</th>\n",
       "      <th>minute</th>\n",
       "      <th>second</th>\n",
       "      <th>location</th>\n",
       "      <th>bodyPart</th>\n",
       "      <th>postLocation</th>\n",
       "      <th>custom</th>\n",
       "    </tr>\n",
       "  </thead>\n",
       "  <tbody>\n",
       "    <tr>\n",
       "      <th>751</th>\n",
       "      <td>2</td>\n",
       "      <td>80</td>\n",
       "      <td>10</td>\n",
       "      <td>1</td>\n",
       "      <td>44</td>\n",
       "      <td>39</td>\n",
       "      <td>1</td>\n",
       "      <td>3</td>\n",
       "      <td>3</td>\n",
       "      <td>0</td>\n",
       "    </tr>\n",
       "    <tr>\n",
       "      <th>1219</th>\n",
       "      <td>2</td>\n",
       "      <td>80</td>\n",
       "      <td>10</td>\n",
       "      <td>2</td>\n",
       "      <td>77</td>\n",
       "      <td>59</td>\n",
       "      <td>1</td>\n",
       "      <td>2</td>\n",
       "      <td>4</td>\n",
       "      <td>2</td>\n",
       "    </tr>\n",
       "  </tbody>\n",
       "</table>\n",
       "</div>"
      ],
      "text/plain": [
       "      teamId  eventId  jersey  half  minute  second  location  bodyPart  \\\n",
       "751        2       80      10     1      44      39         1         3   \n",
       "1219       2       80      10     2      77      59         1         2   \n",
       "\n",
       "      postLocation  custom  \n",
       "751              3       0  \n",
       "1219             4       2  "
      ]
     },
     "execution_count": 5,
     "metadata": {},
     "output_type": "execute_result"
    }
   ],
   "source": [
    "event[event['eventId'] == 80].head()"
   ]
  },
  {
   "cell_type": "code",
   "execution_count": 8,
   "metadata": {},
   "outputs": [
    {
     "name": "stdout",
     "output_type": "stream",
     "text": [
      "KMeansResult(count=10, max_dist_to_centroid=839.78755980201049, density=0.011907773440175292)\n",
      "KMeansResult(count=10, max_dist_to_centroid=226.50946057999766, density=0.04414826636553771)\n"
     ]
    },
    {
     "data": {
      "image/png": "[encoded data removed]",
      "text/plain": [
       "<Figure size 432x288 with 1 Axes>"
      ]
     },
     "metadata": {},
     "output_type": "display_data"
    }
   ],
   "source": [
    "sec = raw[(raw['half'] == 2) & (raw['minute'] == 50) & (raw['second'] == 14)]\n",
    "team_mask = (sec['teamType'] == 1) | (sec['teamType'] == 2)\n",
    "sec = sec[team_mask]\n",
    "points = sec[['x', 'y']].values\n",
    "\n",
    "for cluster, i, result in kmeans_results(points):\n",
    "    plt.scatter(*cluster.T, label=i)\n",
    "    print(result)\n",
    "    \n",
    "plt.xlim([0, 105])\n",
    "plt.ylim([0, 68])\n",
    "plt.title('Scatter plot of (x, y) coordinates')\n",
    "plt.legend();"
   ]
  },
  {
   "cell_type": "markdown",
   "metadata": {},
   "source": [
    "## 2. Finding Degree of Local Linearity\n",
    "May be useful for penalty, freekick.\n",
    "\n",
    "1. Players are linear in $y$ axis. Thus, if we only cluster the players along the $x$ axis, we might find linear structures along $y$."
   ]
  },
  {
   "cell_type": "code",
   "execution_count": 9,
   "metadata": {},
   "outputs": [],
   "source": [
    "def vertical_clustering(points):\n",
    "    n_clusters = 4\n",
    "    x = points[:, 0].reshape(-1, 1)\n",
    "    \n",
    "    kmeans = KMeans(n_clusters=n_clusters, n_init=10)\n",
    "    kmeans = kmeans.fit(x)\n",
    "    centroids = kmeans.cluster_centers_\n",
    "    \n",
    "    accum = []\n",
    "    \n",
    "    for i in range(n_clusters):\n",
    "        cluster_x = x[kmeans.labels_ == i]\n",
    "        cluster_points = points[kmeans.labels_ == i]\n",
    "        num_points = len(cluster_x)\n",
    "        vert_diff = x - centroids[i]\n",
    "        max_dist = np.max(vert_diff)\n",
    "        different_players = not np.isclose(max_dist, 0)\n",
    "        density = num_points/max_dist if different_players else 0\n",
    "        accum.append((cluster_points, i, KMeansResult(num_points, max_dist, density)))\n",
    "                     \n",
    "    return accum"
   ]
  },
  {
   "cell_type": "code",
   "execution_count": 10,
   "metadata": {},
   "outputs": [
    {
     "name": "stdout",
     "output_type": "stream",
     "text": [
      "KMeansResult(count=5, max_dist_to_centroid=25.714466666666802, density=0.19444307614131504)\n",
      "KMeansResult(count=6, max_dist_to_centroid=2.3039555555556461, density=2.6042169023321184)\n",
      "KMeansResult(count=4, max_dist_to_centroid=11.943116666666768, density=0.33492095167788133)\n",
      "KMeansResult(count=5, max_dist_to_centroid=35.775826666666845, density=0.13975917444441932)\n"
     ]
    },
    {
     "data": {
      "image/png": "[encoded data removed]",
      "text/plain": [
       "<Figure size 432x288 with 1 Axes>"
      ]
     },
     "metadata": {},
     "output_type": "display_data"
    }
   ],
   "source": [
    "sec = raw[(raw['half'] == 2) & (raw['minute'] == 63) & (raw['second'] == 24)]\n",
    "team_mask = (sec['teamType'] == 1) | (sec['teamType'] == 2)\n",
    "sec = sec[team_mask]\n",
    "points = sec[['x', 'y']].values\n",
    "\n",
    "for cluster, i, result in vertical_clustering(points):\n",
    "    plt.scatter(*cluster.T, label=i)\n",
    "    print(result)\n",
    "    \n",
    "plt.xlim([0, 105])\n",
    "plt.ylim([0, 68])\n",
    "plt.title('Scatter plot of (x, y) coordinates')\n",
    "plt.legend();"
   ]
  },
  {
   "cell_type": "markdown",
   "metadata": {},
   "source": [
    "## 3. Mixed/Separated Opposite Team Players\n",
    "May be useful for distinguishing between penalty and goal events.\n",
    "\n",
    "* In-cluster gini impurity.\n",
    "  * How many clusters?\n",
    "  * density $\\times$ impurity?"
   ]
  },
  {
   "cell_type": "code",
   "execution_count": 11,
   "metadata": {},
   "outputs": [],
   "source": [
    "from utils import gini_impurity\n",
    "\n",
    "\n",
    "KMeansResult = namedtuple('KMeansResult', 'count density mixing_coeff')\n",
    "\n",
    "\n",
    "def player_mixing(points, teamType):\n",
    "    n_clusters = 4\n",
    "    \n",
    "    kmeans = KMeans(n_clusters=n_clusters, n_init=10)\n",
    "    kmeans = kmeans.fit(points)\n",
    "    centroids = kmeans.cluster_centers_\n",
    "    \n",
    "    accum = []\n",
    "    \n",
    "    for i in range(n_clusters):\n",
    "        cluster = points[kmeans.labels_ == i]\n",
    "        team = teamType[kmeans.labels_ == i]\n",
    "        \n",
    "        num_points = len(cluster)\n",
    "        diff = (cluster - centroids[i])**2\n",
    "        max_dist = np.max(np.sum(diff, axis=1))\n",
    "        different_players = not np.isclose(max_dist, 0)\n",
    "        density = num_points/max_dist if different_players else 0\n",
    "        \n",
    "        gini = gini_impurity(team)\n",
    "        accum.append((cluster, i, KMeansResult(num_points, density, gini)))\n",
    "                     \n",
    "    return accum"
   ]
  },
  {
   "cell_type": "code",
   "execution_count": 59,
   "metadata": {},
   "outputs": [],
   "source": [
    "def plot_impurity(half, minute, second):\n",
    "    sec = raw[(raw['half'] == half) & (raw['minute'] == minute) & (raw['second'] == second)]\n",
    "    team_mask = (sec['teamType'] == 1) | (sec['teamType'] == 2)\n",
    "    sec = sec[team_mask]\n",
    "    points = sec[['x', 'y']].values\n",
    "    teamType = sec['teamType']\n",
    "\n",
    "    plt.figure(figsize=(2*5*105/68, 5))\n",
    "    plt.subplot(1, 2, 1)\n",
    "    for cluster, i, result in player_mixing(points, teamType):\n",
    "        plt.scatter(*cluster.T, label=i)\n",
    "        print(result)\n",
    "\n",
    "    plt.xlim([0, 105])\n",
    "    plt.ylim([0, 68])\n",
    "    plt.title('Found clusters')\n",
    "    plt.legend();\n",
    "\n",
    "    home = sec[teamType == 1]\n",
    "    away = sec[teamType == 2]\n",
    "\n",
    "\n",
    "    plt.subplot(1, 2, 2)\n",
    "    plt.scatter(*home[['x', 'y']].values.T, label='Home')\n",
    "    plt.scatter(*away[['x', 'y']].values.T, label='Away')\n",
    "    plt.title('Players')\n",
    "    plt.tight_layout()\n",
    "    plt.legend();\n",
    "    plt.xlim([0, 105])\n",
    "    plt.ylim([0, 68])"
   ]
  },
  {
   "cell_type": "markdown",
   "metadata": {},
   "source": [
    "### Goal Moment"
   ]
  },
  {
   "cell_type": "code",
   "execution_count": 61,
   "metadata": {},
   "outputs": [
    {
     "name": "stdout",
     "output_type": "stream",
     "text": [
      "KMeansResult(count=7, density=0.03554373840868582, mixing_coeff=0.24489795918367352)\n",
      "KMeansResult(count=6, density=0, mixing_coeff=0.5)\n",
      "KMeansResult(count=6, density=0.071774683551844479, mixing_coeff=0.0)\n",
      "KMeansResult(count=1, density=0, mixing_coeff=0.0)\n"
     ]
    },
    {
     "data": {
      "image/png": "[encoded data removed]",
      "text/plain": [
       "<Figure size 1111.76x360 with 2 Axes>"
      ]
     },
     "metadata": {},
     "output_type": "display_data"
    }
   ],
   "source": [
    "plot_impurity(2, 78, 10)"
   ]
  },
  {
   "cell_type": "markdown",
   "metadata": {},
   "source": [
    "### No Event"
   ]
  },
  {
   "cell_type": "code",
   "execution_count": 60,
   "metadata": {},
   "outputs": [
    {
     "name": "stdout",
     "output_type": "stream",
     "text": [
      "KMeansResult(count=7, density=0.067592266189307318, mixing_coeff=0.48979591836734693)\n",
      "KMeansResult(count=3, density=0.017698744793287379, mixing_coeff=0.44444444444444448)\n",
      "KMeansResult(count=4, density=0.047021009662161085, mixing_coeff=0.5)\n",
      "KMeansResult(count=6, density=0.14661974809386244, mixing_coeff=0.44444444444444448)\n"
     ]
    },
    {
     "data": {
      "image/png": "[encoded data removed]",
      "text/plain": [
       "<Figure size 1111.76x360 with 2 Axes>"
      ]
     },
     "metadata": {},
     "output_type": "display_data"
    }
   ],
   "source": [
    "plot_impurity(2, 60, 30)"
   ]
  }
 ],
 "metadata": {
  "kernelspec": {
   "display_name": "Python 3",
   "language": "python",
   "name": "python3"
  },
  "language_info": {
   "codemirror_mode": {
    "name": "ipython",
    "version": 3
   },
   "file_extension": ".py",
   "mimetype": "text/x-python",
   "name": "python",
   "nbconvert_exporter": "python",
   "pygments_lexer": "ipython3",
   "version": "3.6.4"
  },
  "toc": {
   "nav_menu": {},
   "number_sections": true,
   "sideBar": true,
   "skip_h1_title": false,
   "toc_cell": false,
   "toc_position": {},
   "toc_section_display": "block",
   "toc_window_display": false
  },
  "varInspector": {
   "cols": {
    "lenName": 16,
    "lenType": 16,
    "lenVar": 40
   },
   "kernels_config": {
    "python": {
     "delete_cmd_postfix": "",
     "delete_cmd_prefix": "del ",
     "library": "var_list.py",
     "varRefreshCmd": "print(var_dic_list())"
    },
    "r": {
     "delete_cmd_postfix": ") ",
     "delete_cmd_prefix": "rm(",
     "library": "var_list.r",
     "varRefreshCmd": "cat(var_dic_list()) "
    }
   },
   "types_to_exclude": [
    "module",
    "function",
    "builtin_function_or_method",
    "instance",
    "_Feature"
   ],
   "window_display": false
  }
 },
 "nbformat": 4,
 "nbformat_minor": 2
}
